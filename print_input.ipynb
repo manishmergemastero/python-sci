{
 "cells": [
  {
   "cell_type": "code",
   "execution_count": 2,
   "id": "c0c94202-4420-499b-bad6-ea6292f950f3",
   "metadata": {},
   "outputs": [
    {
     "name": "stdout",
     "output_type": "stream",
     "text": [
      "Manish\n"
     ]
    }
   ],
   "source": [
    "print(\"Manish\")"
   ]
  },
  {
   "cell_type": "code",
   "execution_count": 3,
   "id": "a5e841a1-7fe5-4d47-a8b2-3d5ca2f5db50",
   "metadata": {},
   "outputs": [
    {
     "name": "stdout",
     "output_type": "stream",
     "text": [
      "Prabh\n"
     ]
    }
   ],
   "source": [
    "print(\"Prabh\")"
   ]
  },
  {
   "cell_type": "code",
   "execution_count": 4,
   "id": "bffcbf9b-81a9-42cd-87b0-6fa4bd98ec5e",
   "metadata": {},
   "outputs": [],
   "source": [
    "# Output Function ---> print()\n",
    "\n",
    "# This is a single line comment."
   ]
  },
  {
   "cell_type": "code",
   "execution_count": 5,
   "id": "79d36a93-c0e6-434d-87fa-a75d9c9df2d5",
   "metadata": {},
   "outputs": [],
   "source": [
    "# Program --> Set of instructions given to a computer."
   ]
  },
  {
   "cell_type": "code",
   "execution_count": 6,
   "id": "66668225-9586-4df7-9635-66056fd1aa81",
   "metadata": {},
   "outputs": [],
   "source": [
    "# Programming ---> If you follow a certain rule of a language to give instructions to a computer then it is called programming."
   ]
  },
  {
   "cell_type": "code",
   "execution_count": 7,
   "id": "c3815534-7cb8-4f67-a86e-f76c0a5c8322",
   "metadata": {},
   "outputs": [
    {
     "name": "stdout",
     "output_type": "stream",
     "text": [
      "Hello, World!\n"
     ]
    }
   ],
   "source": [
    "print(\"Hello, World!\")"
   ]
  },
  {
   "cell_type": "code",
   "execution_count": 8,
   "id": "996d1f66-7efb-42fa-bd8a-29de4febe8eb",
   "metadata": {},
   "outputs": [
    {
     "name": "stdin",
     "output_type": "stream",
     "text": [
      "Enter your name:  Prabh\n"
     ]
    },
    {
     "data": {
      "text/plain": [
       "'Prabh'"
      ]
     },
     "execution_count": 8,
     "metadata": {},
     "output_type": "execute_result"
    }
   ],
   "source": [
    "input(\"Enter your name: \")"
   ]
  }
 ],
 "metadata": {
  "kernelspec": {
   "display_name": "Python 3 (ipykernel)",
   "language": "python",
   "name": "python3"
  },
  "language_info": {
   "codemirror_mode": {
    "name": "ipython",
    "version": 3
   },
   "file_extension": ".py",
   "mimetype": "text/x-python",
   "name": "python",
   "nbconvert_exporter": "python",
   "pygments_lexer": "ipython3",
   "version": "3.11.7"
  }
 },
 "nbformat": 4,
 "nbformat_minor": 5
}
