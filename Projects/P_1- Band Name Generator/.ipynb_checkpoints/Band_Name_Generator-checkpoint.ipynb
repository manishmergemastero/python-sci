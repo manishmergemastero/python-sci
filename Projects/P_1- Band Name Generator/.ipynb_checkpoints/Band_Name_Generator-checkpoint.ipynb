{
 "cells": [
  {
   "cell_type": "code",
   "execution_count": 1,
   "id": "6ededb19-6b45-463c-bd66-0b2a125eea3f",
   "metadata": {},
   "outputs": [
    {
     "name": "stdout",
     "output_type": "stream",
     "text": [
      "Welcome to the Band Name Generator.\n"
     ]
    },
    {
     "name": "stdin",
     "output_type": "stream",
     "text": [
      "What's the name of the city you grew up in?\n",
      " Siwan\n",
      "What's your pet's name?\n",
      " Jack\n"
     ]
    },
    {
     "name": "stdout",
     "output_type": "stream",
     "text": [
      "Your band name could be Siwan Jack\n"
     ]
    }
   ],
   "source": [
    "#1. Create a greeting for your program.\n",
    "\n",
    "print(\"Welcome to the Band Name Generator.\")\n",
    "\n",
    "#2. Ask the user for the city that they grew up in.\n",
    "\n",
    "city = input(\"What's the name of the city you grew up in?\\n\")\n",
    "\n",
    "#3. Ask the user for the name of a pet.\n",
    "\n",
    "pet = input(\"What's your pet's name?\\n\")\n",
    "\n",
    "#4. Combine the name of their city and pet and show them their band name.\n",
    "\n",
    "print(\"Your band name could be \" + city + \" \" + pet)\n",
    "\n",
    "#5. Make sure the input cursor shows on a new line:\n",
    "\n",
    "\n",
    "\n",
    "\n",
    "\n"
   ]
  }
 ],
 "metadata": {
  "kernelspec": {
   "display_name": "Python 3 (ipykernel)",
   "language": "python",
   "name": "python3"
  },
  "language_info": {
   "codemirror_mode": {
    "name": "ipython",
    "version": 3
   },
   "file_extension": ".py",
   "mimetype": "text/x-python",
   "name": "python",
   "nbconvert_exporter": "python",
   "pygments_lexer": "ipython3",
   "version": "3.11.7"
  }
 },
 "nbformat": 4,
 "nbformat_minor": 5
}
