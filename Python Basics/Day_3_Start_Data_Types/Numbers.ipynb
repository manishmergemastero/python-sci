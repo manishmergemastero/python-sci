{
 "cells": [
  {
   "cell_type": "code",
   "execution_count": 1,
   "id": "ac2e1d69-db20-4a89-bde3-64abc6ac2878",
   "metadata": {},
   "outputs": [
    {
     "name": "stdout",
     "output_type": "stream",
     "text": [
      "<class 'int'>\n",
      "2\n"
     ]
    }
   ],
   "source": [
    "# Integers are like whole numbers, but they also include negative numbers ... but still no fractions allowed!\n",
    "a = 2\n",
    "print(type(a))\n",
    "print(a)"
   ]
  },
  {
   "cell_type": "code",
   "execution_count": 2,
   "id": "f1020cc8-65c7-4216-a5a0-aef814f661ae",
   "metadata": {},
   "outputs": [
    {
     "name": "stdout",
     "output_type": "stream",
     "text": [
      "<class 'float'>\n",
      "2.5\n"
     ]
    }
   ],
   "source": [
    "# Floating point numbers --> Fractional Numbers or decimal numbers.\n",
    "b = 2.5\n",
    "print(type(b))\n",
    "print(b)"
   ]
  },
  {
   "cell_type": "code",
   "execution_count": 4,
   "id": "27c36a56-4d89-47e9-be9d-19f8a50c8c6c",
   "metadata": {},
   "outputs": [
    {
     "name": "stdout",
     "output_type": "stream",
     "text": [
      "<class 'float'>\n",
      "<class 'float'>\n",
      "<class 'float'>\n"
     ]
    }
   ],
   "source": [
    "x = 35e3\n",
    "y = 12E4\n",
    "z = -87.7e100\n",
    "\n",
    "print(type(x))\n",
    "print(type(y))\n",
    "print(type(z))"
   ]
  },
  {
   "cell_type": "code",
   "execution_count": 3,
   "id": "516994aa-edd7-40ca-94c1-bfc8cac77f6f",
   "metadata": {},
   "outputs": [
    {
     "name": "stdout",
     "output_type": "stream",
     "text": [
      "<class 'complex'>\n",
      "(2+3j)\n"
     ]
    }
   ],
   "source": [
    "# Complex Numbers --> A Complex Number is a combination of a\n",
    "# Real Number and an Imaginary Number.\n",
    "c = 2 + 3j\n",
    "print(type(c))\n",
    "print(c)"
   ]
  },
  {
   "cell_type": "code",
   "execution_count": 7,
   "id": "df4f3c43-7e4d-4802-b88f-e498177b4c8d",
   "metadata": {},
   "outputs": [
    {
     "name": "stdout",
     "output_type": "stream",
     "text": [
      "2.0\n",
      "2\n",
      "(2+0j)\n"
     ]
    }
   ],
   "source": [
    "# Type Conversion --> Type Casting --> To convert the data type from one type to another data type\n",
    "# You can convert from one type to another with the int(), float(), and complex() methods\n",
    "a = float(a)\n",
    "print(a)\n",
    "\n",
    "b = int(b)\n",
    "print(b)\n",
    "\n",
    "b = complex(b)\n",
    "print(b)"
   ]
  },
  {
   "cell_type": "code",
   "execution_count": 9,
   "id": "60686f7e-e53c-4d6e-b328-a0c986ab8d95",
   "metadata": {},
   "outputs": [
    {
     "name": "stdout",
     "output_type": "stream",
     "text": [
      "<class 'str'>\n"
     ]
    }
   ],
   "source": [
    "a = str(a)\n",
    "print(type(a))"
   ]
  },
  {
   "cell_type": "code",
   "execution_count": 25,
   "id": "693c66c2-f5dc-4376-a59a-755a68f29eed",
   "metadata": {},
   "outputs": [
    {
     "name": "stdout",
     "output_type": "stream",
     "text": [
      "8\n"
     ]
    }
   ],
   "source": [
    "import random\n",
    "\n",
    "print(random.randrange(1, 10))"
   ]
  }
 ],
 "metadata": {
  "kernelspec": {
   "display_name": "Python 3 (ipykernel)",
   "language": "python",
   "name": "python3"
  },
  "language_info": {
   "codemirror_mode": {
    "name": "ipython",
    "version": 3
   },
   "file_extension": ".py",
   "mimetype": "text/x-python",
   "name": "python",
   "nbconvert_exporter": "python",
   "pygments_lexer": "ipython3",
   "version": "3.11.7"
  }
 },
 "nbformat": 4,
 "nbformat_minor": 5
}
