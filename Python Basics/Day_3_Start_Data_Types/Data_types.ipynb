{
 "cells": [
  {
   "cell_type": "code",
   "execution_count": 1,
   "id": "ee0ee417-9de8-4fbc-a686-cd24dd5dd532",
   "metadata": {},
   "outputs": [],
   "source": [
    "# String ---> Anything whatever you put inside \"\" or ''  or \"\"\"\"\"\"\" or str(), will be treated as string.\n",
    "# Basically set of characters --for ex. -- Name of a city, person etc..\n",
    "\n",
    "Name = 'Amit'\n",
    "Name_1 = \"abhishek\"\n",
    "Name_2 = \"\"\"Aditya\"\"\""
   ]
  },
  {
   "cell_type": "code",
   "execution_count": 2,
   "id": "443adc2d-da1c-44ac-8cbe-7fe5689b22c3",
   "metadata": {},
   "outputs": [
    {
     "name": "stdout",
     "output_type": "stream",
     "text": [
      "<class 'str'>\n"
     ]
    }
   ],
   "source": [
    "# Best Practice -- You should only follow this.\n",
    "print(type(Name))"
   ]
  },
  {
   "cell_type": "code",
   "execution_count": 3,
   "id": "b3e7ca60-a686-4034-93a4-74a05fc1ba23",
   "metadata": {},
   "outputs": [
    {
     "data": {
      "text/plain": [
       "str"
      ]
     },
     "execution_count": 3,
     "metadata": {},
     "output_type": "execute_result"
    }
   ],
   "source": [
    "# This is not the best practice you should AVOID this.\n",
    "type(Name)"
   ]
  },
  {
   "cell_type": "code",
   "execution_count": 4,
   "id": "dee5ab11-136a-415b-9fa4-3cdf33cd7923",
   "metadata": {},
   "outputs": [
    {
     "name": "stdout",
     "output_type": "stream",
     "text": [
      "<class 'int'>\n",
      "<class 'float'>\n",
      "<class 'complex'>\n"
     ]
    }
   ],
   "source": [
    "# Numbers\n",
    "# Integers --- Whole numbers and negative of counting numbers.\n",
    "# Float -- Floating point numbers means decimal wale number.\n",
    "# Complex -- a + ib --- a + bj\n",
    "\n",
    "a = 100\n",
    "b = 100.5\n",
    "c = 2 + 3j\n",
    "\n",
    "print(type(a))\n",
    "print(type(b))\n",
    "print(type(c))"
   ]
  },
  {
   "cell_type": "code",
   "execution_count": 22,
   "id": "6eb65c60-8e9a-47a6-9780-02dffe7b4663",
   "metadata": {},
   "outputs": [
    {
     "name": "stdout",
     "output_type": "stream",
     "text": [
      "['apple', 'banana', 'cherry']\n",
      "<class 'list'>\n"
     ]
    }
   ],
   "source": [
    "# List --> [] or list()\n",
    "\n",
    "x = [\"apple\", \"banana\", \"cherry\"]\n",
    "\n",
    "# display x:\n",
    "print(x)\n",
    "\n",
    "# display the data type of x:\n",
    "print(type(x))"
   ]
  },
  {
   "cell_type": "code",
   "execution_count": 21,
   "id": "93ce0c32-650b-4c73-b509-8d7c586bdffd",
   "metadata": {},
   "outputs": [
    {
     "name": "stdout",
     "output_type": "stream",
     "text": [
      "('apple', 'banana', 'cherry')\n",
      "<class 'tuple'>\n"
     ]
    }
   ],
   "source": [
    "# Tuple --> (,) or tuple(())\n",
    "\n",
    "x = (\"apple\", \"banana\", \"cherry\")\n",
    "\n",
    "# display x:\n",
    "print(x)\n",
    "\n",
    "# display the data type of x:\n",
    "print(type(x))"
   ]
  },
  {
   "cell_type": "code",
   "execution_count": 20,
   "id": "68c6e5fc-8ff0-4227-a6a9-f4454961137c",
   "metadata": {},
   "outputs": [
    {
     "name": "stdout",
     "output_type": "stream",
     "text": [
      "range(0, 6)\n",
      "<class 'range'>\n"
     ]
    }
   ],
   "source": [
    "# range -->\n",
    "x = range(6)\n",
    "\n",
    "# display x:\n",
    "print(x)\n",
    "\n",
    "# display the data type of x:\n",
    "print(type(x)) "
   ]
  },
  {
   "cell_type": "code",
   "execution_count": 23,
   "id": "268a1523-373d-4cc2-814b-d05739a1c116",
   "metadata": {},
   "outputs": [
    {
     "name": "stdout",
     "output_type": "stream",
     "text": [
      "{'name': 'John', 'age': 36}\n",
      "<class 'dict'>\n"
     ]
    }
   ],
   "source": [
    "# dictionary --> {\"key\" : value}\n",
    "\n",
    "x = {\"name\" : \"John\", \"age\" : 36}\n",
    "\n",
    "#display x:\n",
    "print(x)\n",
    "\n",
    "#display the data type of x:\n",
    "print(type(x))"
   ]
  },
  {
   "cell_type": "code",
   "execution_count": 11,
   "id": "7b7a815e-7922-4c1f-8cb1-7e880bb2a22b",
   "metadata": {},
   "outputs": [
    {
     "name": "stdout",
     "output_type": "stream",
     "text": [
      "{'banana', 'cherry', 'apple'}\n",
      "<class 'set'>\n"
     ]
    }
   ],
   "source": [
    "# Set\n",
    "\n",
    "x = {\"apple\", \"banana\", \"cherry\"}\n",
    "\n",
    "#display x:\n",
    "print(x)\n",
    "\n",
    "#display the data type of x:\n",
    "print(type(x)) "
   ]
  },
  {
   "cell_type": "code",
   "execution_count": 12,
   "id": "63aed338-822e-498e-a446-edc3e14dc843",
   "metadata": {},
   "outputs": [
    {
     "name": "stdout",
     "output_type": "stream",
     "text": [
      "frozenset({'banana', 'cherry', 'apple'})\n",
      "<class 'frozenset'>\n"
     ]
    }
   ],
   "source": [
    "x = frozenset({\"apple\", \"banana\", \"cherry\"})\n",
    "\n",
    "#display x:\n",
    "print(x)\n",
    "\n",
    "#display the data type of x:\n",
    "print(type(x)) "
   ]
  },
  {
   "cell_type": "code",
   "execution_count": 13,
   "id": "3721a8aa-cab9-4dea-9ed1-f89419281753",
   "metadata": {},
   "outputs": [
    {
     "name": "stdout",
     "output_type": "stream",
     "text": [
      "True\n",
      "<class 'bool'>\n"
     ]
    }
   ],
   "source": [
    "x = True\n",
    "\n",
    "#display x:\n",
    "print(x)\n",
    "\n",
    "#display the data type of x:\n",
    "print(type(x)) "
   ]
  },
  {
   "cell_type": "code",
   "execution_count": 14,
   "id": "329651a2-884e-4e35-a310-e8c446576b20",
   "metadata": {},
   "outputs": [
    {
     "name": "stdout",
     "output_type": "stream",
     "text": [
      "13579\n"
     ]
    }
   ],
   "source": [
    "# Advance Indexing --> slice -- [Start:End:Step]\n",
    "\n",
    "num = \"0123456789\"\n",
    "print(num[1::2])"
   ]
  },
  {
   "cell_type": "code",
   "execution_count": 17,
   "id": "f160e58d-fd18-40bc-92e2-294beeb1433f",
   "metadata": {},
   "outputs": [
    {
     "name": "stdout",
     "output_type": "stream",
     "text": [
      "Mns\n",
      "Mns\n"
     ]
    }
   ],
   "source": [
    "name = \"Manish\"\n",
    "# Ist way\n",
    "print(name[0:5:2])\n",
    "\n",
    "# 2nd way\n",
    "print(name[::2])"
   ]
  }
 ],
 "metadata": {
  "kernelspec": {
   "display_name": "Python 3 (ipykernel)",
   "language": "python",
   "name": "python3"
  },
  "language_info": {
   "codemirror_mode": {
    "name": "ipython",
    "version": 3
   },
   "file_extension": ".py",
   "mimetype": "text/x-python",
   "name": "python",
   "nbconvert_exporter": "python",
   "pygments_lexer": "ipython3",
   "version": "3.11.7"
  }
 },
 "nbformat": 4,
 "nbformat_minor": 5
}
