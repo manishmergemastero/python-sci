{
 "cells": [
  {
   "cell_type": "code",
   "execution_count": 1,
   "id": "f32e1855-505c-4729-a5ca-57e94c16d4fd",
   "metadata": {},
   "outputs": [
    {
     "data": {
      "text/plain": [
       "0"
      ]
     },
     "execution_count": 1,
     "metadata": {},
     "output_type": "execute_result"
    }
   ],
   "source": [
    "4 & 2"
   ]
  },
  {
   "cell_type": "code",
   "execution_count": 2,
   "id": "21734be7-5c79-499d-90ec-217caa8717cc",
   "metadata": {},
   "outputs": [
    {
     "data": {
      "text/plain": [
       "7"
      ]
     },
     "execution_count": 2,
     "metadata": {},
     "output_type": "execute_result"
    }
   ],
   "source": [
    "7 | 2"
   ]
  },
  {
   "cell_type": "code",
   "execution_count": 3,
   "id": "701c299a-300b-4ded-b570-cb82a47c1eed",
   "metadata": {},
   "outputs": [
    {
     "name": "stdout",
     "output_type": "stream",
     "text": [
      "['apple', 'banana', 'cherry']\n"
     ]
    }
   ],
   "source": [
    "thislist = [\"apple\", \"banana\", \"cherry\"]\n",
    "print(thislist)"
   ]
  },
  {
   "cell_type": "code",
   "execution_count": 4,
   "id": "f99ed148-6a73-4876-b997-7e5c7521738f",
   "metadata": {},
   "outputs": [],
   "source": [
    "my_list = [1, 2, 3.5, \"Abhishek\", True, False, 2 + 3j]"
   ]
  },
  {
   "cell_type": "code",
   "execution_count": 5,
   "id": "ea0348ad-5f1d-47fc-9efd-1e2fd22af0c2",
   "metadata": {},
   "outputs": [
    {
     "data": {
      "text/plain": [
       "[1, 2, 3.5, 'Abhishek', True, False, (2+3j)]"
      ]
     },
     "execution_count": 5,
     "metadata": {},
     "output_type": "execute_result"
    }
   ],
   "source": [
    "my_list"
   ]
  },
  {
   "cell_type": "code",
   "execution_count": 6,
   "id": "2013a059-e976-4b3f-9c4f-80d52ce4d62c",
   "metadata": {},
   "outputs": [],
   "source": [
    "my_list = [1, 2, 3.5, \"Abhishek\", True, False, 2 + 3j, 1, 2, 3.5]"
   ]
  },
  {
   "cell_type": "code",
   "execution_count": 7,
   "id": "2fd2c660-bc62-4ee8-ae59-f4d127b64a1d",
   "metadata": {},
   "outputs": [
    {
     "data": {
      "text/plain": [
       "1"
      ]
     },
     "execution_count": 7,
     "metadata": {},
     "output_type": "execute_result"
    }
   ],
   "source": [
    "my_list[0]"
   ]
  },
  {
   "cell_type": "code",
   "execution_count": 8,
   "id": "d2857911-1d3b-4cbd-8eca-79aac8c2179b",
   "metadata": {},
   "outputs": [
    {
     "data": {
      "text/plain": [
       "10"
      ]
     },
     "execution_count": 8,
     "metadata": {},
     "output_type": "execute_result"
    }
   ],
   "source": [
    "len(my_list)"
   ]
  },
  {
   "cell_type": "code",
   "execution_count": 9,
   "id": "0001c42d-c9bb-4cb3-9cad-ba06b516086b",
   "metadata": {},
   "outputs": [
    {
     "data": {
      "text/plain": [
       "False"
      ]
     },
     "execution_count": 9,
     "metadata": {},
     "output_type": "execute_result"
    }
   ],
   "source": [
    "my_list[-5]"
   ]
  }
 ],
 "metadata": {
  "kernelspec": {
   "display_name": "Python 3 (ipykernel)",
   "language": "python",
   "name": "python3"
  },
  "language_info": {
   "codemirror_mode": {
    "name": "ipython",
    "version": 3
   },
   "file_extension": ".py",
   "mimetype": "text/x-python",
   "name": "python",
   "nbconvert_exporter": "python",
   "pygments_lexer": "ipython3",
   "version": "3.11.7"
  }
 },
 "nbformat": 4,
 "nbformat_minor": 5
}
