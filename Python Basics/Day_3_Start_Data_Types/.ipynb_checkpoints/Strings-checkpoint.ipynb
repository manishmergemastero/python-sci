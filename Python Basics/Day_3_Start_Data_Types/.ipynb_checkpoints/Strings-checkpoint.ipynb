{
 "cells": [
  {
   "cell_type": "code",
   "execution_count": 1,
   "id": "90fcf086-0de1-4437-97c1-947b3afec2dc",
   "metadata": {},
   "outputs": [],
   "source": [
    "# Strings -- \"\",'', \"\"\"\"\"\", str() --> Set of characters(a-z or A-Z)."
   ]
  },
  {
   "cell_type": "code",
   "execution_count": 2,
   "id": "142a0d0e-2057-4850-b176-866f328700ea",
   "metadata": {},
   "outputs": [
    {
     "name": "stdout",
     "output_type": "stream",
     "text": [
      "<class 'str'>\n",
      "Abhishek\n"
     ]
    }
   ],
   "source": [
    "My_Name = \"Abhishek\"\n",
    "print(type(My_Name))\n",
    "print(My_Name)"
   ]
  },
  {
   "cell_type": "code",
   "execution_count": 3,
   "id": "320d34c5-c50d-49c9-a884-11ee227e13ce",
   "metadata": {},
   "outputs": [
    {
     "ename": "SyntaxError",
     "evalue": "invalid syntax (4103463311.py, line 2)",
     "output_type": "error",
     "traceback": [
      "\u001b[1;36m  Cell \u001b[1;32mIn[3], line 2\u001b[1;36m\u001b[0m\n\u001b[1;33m    msg = \"\"Abhishek\" got 80 marks in maths.\"\u001b[0m\n\u001b[1;37m            ^\u001b[0m\n\u001b[1;31mSyntaxError\u001b[0m\u001b[1;31m:\u001b[0m invalid syntax\n"
     ]
    }
   ],
   "source": [
    "# Problem -- \n",
    "msg = \"\"Abhishek\" got 80 marks in maths.\"\n",
    "print(msg)"
   ]
  },
  {
   "cell_type": "code",
   "execution_count": 8,
   "id": "d8c4a063-d15c-49cc-8303-f61f5913e968",
   "metadata": {},
   "outputs": [
    {
     "name": "stdout",
     "output_type": "stream",
     "text": [
      "'Abhishek' got 80 marks in maths.\n"
     ]
    }
   ],
   "source": [
    "# msg = '\"Abhishek\" got 80 marks in maths.'\n",
    "# msg = \"\\\"Abhishek\\\" got 80 marks in maths.\"\n",
    "msg = '\\'Abhishek\\' got 80 marks in maths.'\n",
    "print(msg)"
   ]
  },
  {
   "cell_type": "code",
   "execution_count": 5,
   "id": "bf6d0298-1ba9-4e38-bdd5-984be08a463f",
   "metadata": {},
   "outputs": [
    {
     "name": "stdout",
     "output_type": "stream",
     "text": [
      "It's alright\n",
      "He is called 'Johnny'\n",
      "He is called \"Johnny\"\n"
     ]
    }
   ],
   "source": [
    "print(\"It's alright\")\n",
    "print(\"He is called 'Johnny'\")\n",
    "print('He is called \"Johnny\"')"
   ]
  },
  {
   "cell_type": "code",
   "execution_count": 9,
   "id": "1e622dca-6d01-436d-bfc6-4115dec01d5f",
   "metadata": {},
   "outputs": [
    {
     "name": "stdout",
     "output_type": "stream",
     "text": [
      "A\n"
     ]
    }
   ],
   "source": [
    "print(My_Name[0])"
   ]
  },
  {
   "cell_type": "code",
   "execution_count": 11,
   "id": "e9008006-38a3-408f-8c31-837eb9de24be",
   "metadata": {},
   "outputs": [
    {
     "name": "stdout",
     "output_type": "stream",
     "text": [
      "A\n",
      "b\n",
      "h\n",
      "i\n",
      "s\n",
      "h\n",
      "e\n",
      "k\n"
     ]
    }
   ],
   "source": [
    "# Loop Through String\n",
    "for i in My_Name:\n",
    "    print(i)"
   ]
  },
  {
   "cell_type": "code",
   "execution_count": 12,
   "id": "ad448071-8716-4fd9-8d8a-e00c86c83c16",
   "metadata": {},
   "outputs": [
    {
     "name": "stdout",
     "output_type": "stream",
     "text": [
      "8\n"
     ]
    }
   ],
   "source": [
    "print(len(My_Name))"
   ]
  },
  {
   "cell_type": "code",
   "execution_count": 13,
   "id": "15d58fba-8081-4321-9686-a2bc14b8ee5e",
   "metadata": {},
   "outputs": [
    {
     "name": "stdout",
     "output_type": "stream",
     "text": [
      "True\n"
     ]
    }
   ],
   "source": [
    "print(\"i\" in My_Name)"
   ]
  },
  {
   "cell_type": "code",
   "execution_count": 14,
   "id": "90778458-a7cc-41e5-95e7-f40f41039453",
   "metadata": {},
   "outputs": [
    {
     "name": "stdout",
     "output_type": "stream",
     "text": [
      "True\n"
     ]
    }
   ],
   "source": [
    "print(\"80\" in msg)"
   ]
  },
  {
   "cell_type": "code",
   "execution_count": 15,
   "id": "1ab3a816-28b6-440d-ac93-4ba8fa72c914",
   "metadata": {},
   "outputs": [
    {
     "name": "stdout",
     "output_type": "stream",
     "text": [
      "False\n"
     ]
    }
   ],
   "source": [
    "print(\"80\" not in msg)"
   ]
  },
  {
   "cell_type": "markdown",
   "id": "6ef1523e-1db0-46e5-96e8-6767bbd0ec66",
   "metadata": {},
   "source": [
    "## Slicing --> [Start:End] --> Start is going to include in my string and End will be excluded."
   ]
  },
  {
   "cell_type": "code",
   "execution_count": 18,
   "id": "ab848096-107f-48e9-b3e8-c35af23b9856",
   "metadata": {},
   "outputs": [
    {
     "name": "stdout",
     "output_type": "stream",
     "text": [
      "Abhi\n",
      "Abhi\n"
     ]
    }
   ],
   "source": [
    "# Indexing from left -- Positive Indexing\n",
    "print(My_Name[:4])\n",
    "print(My_Name[0:4])"
   ]
  },
  {
   "cell_type": "code",
   "execution_count": 19,
   "id": "5ae2ab4a-6ca3-44fa-8b0c-a5dfa7e32657",
   "metadata": {},
   "outputs": [
    {
     "name": "stdout",
     "output_type": "stream",
     "text": [
      "Abhi\n",
      "Abhi\n"
     ]
    }
   ],
   "source": [
    "# Indexing from Right -- Negative Indexing\n",
    "print(My_Name[:-4])\n",
    "print(My_Name[-8:-4])"
   ]
  },
  {
   "cell_type": "code",
   "execution_count": 20,
   "id": "4b39cdf4-1fd8-49e0-8c29-df4db7fd9b1f",
   "metadata": {},
   "outputs": [
    {
     "name": "stdout",
     "output_type": "stream",
     "text": [
      "shek\n",
      "shek\n"
     ]
    }
   ],
   "source": [
    "print(My_Name[4:])\n",
    "print(My_Name[4:8])"
   ]
  },
  {
   "cell_type": "code",
   "execution_count": 21,
   "id": "7707b084-90b3-4c42-a093-709d7fb1a167",
   "metadata": {},
   "outputs": [
    {
     "data": {
      "text/plain": [
       "'Abhishek'"
      ]
     },
     "execution_count": 21,
     "metadata": {},
     "output_type": "execute_result"
    }
   ],
   "source": [
    "My_Name"
   ]
  },
  {
   "cell_type": "code",
   "execution_count": 22,
   "id": "dc733aea-894a-4220-af8c-bc75e6180324",
   "metadata": {},
   "outputs": [
    {
     "data": {
      "text/plain": [
       "'abhishek'"
      ]
     },
     "execution_count": 22,
     "metadata": {},
     "output_type": "execute_result"
    }
   ],
   "source": [
    "My_Name.lower()"
   ]
  },
  {
   "cell_type": "code",
   "execution_count": 23,
   "id": "7c5e2608-927c-4e1c-bb2b-912ad33bf64d",
   "metadata": {},
   "outputs": [
    {
     "data": {
      "text/plain": [
       "'ABHISHEK'"
      ]
     },
     "execution_count": 23,
     "metadata": {},
     "output_type": "execute_result"
    }
   ],
   "source": [
    "My_Name.upper()"
   ]
  },
  {
   "cell_type": "code",
   "execution_count": 24,
   "id": "6703f0ae-9774-498a-8ed1-0d66bec67d2a",
   "metadata": {},
   "outputs": [
    {
     "data": {
      "text/plain": [
       "'       Manish     '"
      ]
     },
     "execution_count": 24,
     "metadata": {},
     "output_type": "execute_result"
    }
   ],
   "source": [
    "mY_nAme = '       Manish     '\n",
    "mY_nAme"
   ]
  },
  {
   "cell_type": "code",
   "execution_count": 28,
   "id": "34dbcaf7-2dc8-4729-a2d8-76de4bf70cec",
   "metadata": {},
   "outputs": [],
   "source": [
    "mY_nAme = mY_nAme.strip()"
   ]
  },
  {
   "cell_type": "code",
   "execution_count": 29,
   "id": "47050068-4b8b-4005-a65b-97f76c6e4272",
   "metadata": {},
   "outputs": [
    {
     "data": {
      "text/plain": [
       "'Manish'"
      ]
     },
     "execution_count": 29,
     "metadata": {},
     "output_type": "execute_result"
    }
   ],
   "source": [
    "mY_nAme"
   ]
  },
  {
   "cell_type": "code",
   "execution_count": 27,
   "id": "beb1ab8f-4ab7-42ae-94b1-994552986ba9",
   "metadata": {},
   "outputs": [
    {
     "data": {
      "text/plain": [
       "'Abhishek'"
      ]
     },
     "execution_count": 27,
     "metadata": {},
     "output_type": "execute_result"
    }
   ],
   "source": [
    "My_Name"
   ]
  },
  {
   "cell_type": "code",
   "execution_count": 30,
   "id": "02a2a5d2-9c22-4ca1-afc8-8e716c015a9b",
   "metadata": {},
   "outputs": [
    {
     "data": {
      "text/plain": [
       "24"
      ]
     },
     "execution_count": 30,
     "metadata": {},
     "output_type": "execute_result"
    }
   ],
   "source": [
    "text = \"Hello My Name is Manish.\"\n",
    "len(text)"
   ]
  },
  {
   "cell_type": "code",
   "execution_count": 31,
   "id": "85352a37-fd49-48b4-80b9-15fdeda7125e",
   "metadata": {},
   "outputs": [
    {
     "data": {
      "text/plain": [
       "'Jello My Name is Manish.'"
      ]
     },
     "execution_count": 31,
     "metadata": {},
     "output_type": "execute_result"
    }
   ],
   "source": [
    "text.replace(\"H\",\"J\")"
   ]
  },
  {
   "cell_type": "code",
   "execution_count": 32,
   "id": "fba86bca-4db4-4440-aaec-a0ca67ea367f",
   "metadata": {},
   "outputs": [
    {
     "name": "stdout",
     "output_type": "stream",
     "text": [
      "['Hello', ' World!']\n"
     ]
    }
   ],
   "source": [
    "a = \"Hello, World!\"\n",
    "print(a.split(\",\"))"
   ]
  },
  {
   "cell_type": "code",
   "execution_count": 33,
   "id": "65c92aff-2cbf-457b-b274-a028317e3f40",
   "metadata": {},
   "outputs": [
    {
     "data": {
      "text/plain": [
       "['Hello', 'My', 'Name', 'is', 'Manish.']"
      ]
     },
     "execution_count": 33,
     "metadata": {},
     "output_type": "execute_result"
    }
   ],
   "source": [
    "text.split(\" \")"
   ]
  },
  {
   "cell_type": "code",
   "execution_count": 34,
   "id": "1e58ab3e-f614-4fd0-950d-f82042392411",
   "metadata": {},
   "outputs": [],
   "source": [
    "# Placeholders and Modifiers\n",
    "# A placeholder can contain variables, operations, functions, and modifiers to format the value.\n",
    "# A placeholder can include a modifier to format the value.\n",
    "# A modifier is included by adding a colon : followed by a legal formatting type, like .2f which means fixed point number with 2 decimals"
   ]
  },
  {
   "cell_type": "code",
   "execution_count": 35,
   "id": "2a638d00-368f-4a79-a254-fe90e6035289",
   "metadata": {},
   "outputs": [
    {
     "name": "stdout",
     "output_type": "stream",
     "text": [
      "The price is 59.00 dollars\n"
     ]
    }
   ],
   "source": [
    "price = 59\n",
    "txt = f\"The price is {price:.2f} dollars\"\n",
    "print(txt)"
   ]
  },
  {
   "cell_type": "code",
   "execution_count": 36,
   "id": "13b2d7d2-92be-44e6-bfba-28b812af7e31",
   "metadata": {},
   "outputs": [
    {
     "name": "stdout",
     "output_type": "stream",
     "text": [
      "Hello, World!\n",
      "Hello, World!\n",
      "Hello, World!\n"
     ]
    }
   ],
   "source": [
    "print(\"Hello, World!\")\n",
    "print(\"Hello, World!\")\n",
    "print(\"Hello, World!\")"
   ]
  },
  {
   "cell_type": "code",
   "execution_count": 37,
   "id": "bb330b39-f143-4d95-ac3f-6db219022ab1",
   "metadata": {},
   "outputs": [
    {
     "name": "stdout",
     "output_type": "stream",
     "text": [
      "Hello, World!\n",
      "Hello, World!\n",
      "Hello, World!\n"
     ]
    }
   ],
   "source": [
    "print(\"Hello, World!\\nHello, World!\\nHello, World!\")"
   ]
  },
  {
   "cell_type": "code",
   "execution_count": 38,
   "id": "60f4de1a-9367-44d0-9a94-7fc7dd0e2df2",
   "metadata": {},
   "outputs": [
    {
     "name": "stdout",
     "output_type": "stream",
     "text": [
      "Hello, World! Hello, World! Hello, World!\n"
     ]
    }
   ],
   "source": [
    "print(\"Hello, World! Hello, World! Hello, World!\")"
   ]
  }
 ],
 "metadata": {
  "kernelspec": {
   "display_name": "Python 3 (ipykernel)",
   "language": "python",
   "name": "python3"
  },
  "language_info": {
   "codemirror_mode": {
    "name": "ipython",
    "version": 3
   },
   "file_extension": ".py",
   "mimetype": "text/x-python",
   "name": "python",
   "nbconvert_exporter": "python",
   "pygments_lexer": "ipython3",
   "version": "3.11.7"
  }
 },
 "nbformat": 4,
 "nbformat_minor": 5
}
