{
 "cells": [
  {
   "cell_type": "code",
   "execution_count": 2,
   "id": "9dcab316-e6ff-4bcc-8cff-39cdb57f1f99",
   "metadata": {},
   "outputs": [
    {
     "name": "stdout",
     "output_type": "stream",
     "text": [
      "Hello, World!\n"
     ]
    }
   ],
   "source": [
    "print(\"Hello, World!\")"
   ]
  },
  {
   "cell_type": "code",
   "execution_count": 3,
   "id": "28169d82-f48c-42cb-b063-4df5aeb94d0a",
   "metadata": {},
   "outputs": [
    {
     "name": "stdout",
     "output_type": "stream",
     "text": [
      "Hello, World!\n",
      "Hello, World!\n",
      "Hello, World!\n"
     ]
    }
   ],
   "source": [
    "print(\"Hello, World!\")\n",
    "print(\"Hello, World!\")\n",
    "print(\"Hello, World!\")"
   ]
  },
  {
   "cell_type": "code",
   "execution_count": 4,
   "id": "2138d74c-e0a4-41b9-bb9e-2afaadc87ddc",
   "metadata": {},
   "outputs": [
    {
     "name": "stdout",
     "output_type": "stream",
     "text": [
      "Hello, World!\n",
      "Hello, World!\n",
      "Hello, World!\n"
     ]
    }
   ],
   "source": [
    "# \\n --> Backslash n ---> A new line character in python.\n",
    "print(\"Hello, World!\\nHello, World!\\nHello, World!\")"
   ]
  },
  {
   "cell_type": "code",
   "execution_count": 5,
   "id": "9750a3c2-2ad6-43f7-9446-10f129907b1e",
   "metadata": {},
   "outputs": [
    {
     "name": "stdout",
     "output_type": "stream",
     "text": [
      "Amit\n"
     ]
    }
   ],
   "source": [
    "print(\"Amit\")"
   ]
  },
  {
   "cell_type": "code",
   "execution_count": 6,
   "id": "60794cbd-ca41-4be3-9fda-4644779625e8",
   "metadata": {},
   "outputs": [
    {
     "name": "stdout",
     "output_type": "stream",
     "text": [
      "HelloAmit\n"
     ]
    }
   ],
   "source": [
    "# Anything in between single ('') and double (\"\") quotes then it is treated as strings in python.\n",
    "print(\"Hello\" + \"Amit\")"
   ]
  },
  {
   "cell_type": "code",
   "execution_count": 7,
   "id": "d7d851f4-15aa-417e-8311-faa3a8d940ba",
   "metadata": {},
   "outputs": [
    {
     "name": "stdout",
     "output_type": "stream",
     "text": [
      "Hello Amit\n"
     ]
    }
   ],
   "source": [
    "# Concatenation --- Addition of two or more than two strings together.\n",
    "\n",
    "# The problem here is we need to give space in between above two strings.\n",
    "\n",
    "# 1st way\n",
    "\n",
    "print(\"Hello \" + \"Amit\")"
   ]
  },
  {
   "cell_type": "code",
   "execution_count": 8,
   "id": "ad0d1b19-f455-418e-b7ea-c8ef92a1e3a8",
   "metadata": {},
   "outputs": [
    {
     "name": "stdout",
     "output_type": "stream",
     "text": [
      "Hello Amit\n"
     ]
    }
   ],
   "source": [
    "# 2nd way\n",
    "print(\"Hello\" + \" Amit\")"
   ]
  },
  {
   "cell_type": "code",
   "execution_count": 9,
   "id": "9b500e6c-f433-4497-88c6-a88b872a5f97",
   "metadata": {},
   "outputs": [
    {
     "name": "stdout",
     "output_type": "stream",
     "text": [
      "Hello Amit\n"
     ]
    }
   ],
   "source": [
    "# 3rd way \n",
    "print(\"Hello\" +\" \"+ \"Amit\")"
   ]
  },
  {
   "cell_type": "code",
   "execution_count": 10,
   "id": "9a1f0900-36bd-412d-be57-a9736af718e0",
   "metadata": {},
   "outputs": [
    {
     "name": "stdout",
     "output_type": "stream",
     "text": [
      "Hello Amit\n"
     ]
    }
   ],
   "source": [
    "# 4th way\n",
    "print(\"Hello\", \"Amit\")"
   ]
  },
  {
   "cell_type": "code",
   "execution_count": 11,
   "id": "8c38f719-d1b6-441b-922e-3f729d2550db",
   "metadata": {},
   "outputs": [
    {
     "name": "stdout",
     "output_type": "stream",
     "text": [
      "Hello Amit\n"
     ]
    }
   ],
   "source": [
    "# 5th way\n",
    "print(f\"Hello Amit\")"
   ]
  },
  {
   "cell_type": "code",
   "execution_count": 12,
   "id": "50b97805-27a5-4730-a6cd-664f0e9330b3",
   "metadata": {},
   "outputs": [
    {
     "name": "stdout",
     "output_type": "stream",
     "text": [
      "Hello Amit\n"
     ]
    }
   ],
   "source": [
    "print(\"\"\"Hello Amit\"\"\")"
   ]
  },
  {
   "cell_type": "code",
   "execution_count": 13,
   "id": "7e2e1e4b-8458-45ba-91fd-476135db20e4",
   "metadata": {},
   "outputs": [
    {
     "name": "stdout",
     "output_type": "stream",
     "text": [
      "The Zen of Python, by Tim Peters\n",
      "\n",
      "Beautiful is better than ugly.\n",
      "Explicit is better than implicit.\n",
      "Simple is better than complex.\n",
      "Complex is better than complicated.\n",
      "Flat is better than nested.\n",
      "Sparse is better than dense.\n",
      "Readability counts.\n",
      "Special cases aren't special enough to break the rules.\n",
      "Although practicality beats purity.\n",
      "Errors should never pass silently.\n",
      "Unless explicitly silenced.\n",
      "In the face of ambiguity, refuse the temptation to guess.\n",
      "There should be one-- and preferably only one --obvious way to do it.\n",
      "Although that way may not be obvious at first unless you're Dutch.\n",
      "Now is better than never.\n",
      "Although never is often better than *right* now.\n",
      "If the implementation is hard to explain, it's a bad idea.\n",
      "If the implementation is easy to explain, it may be a good idea.\n",
      "Namespaces are one honking great idea -- let's do more of those!\n"
     ]
    }
   ],
   "source": [
    "import this"
   ]
  },
  {
   "cell_type": "code",
   "execution_count": 15,
   "id": "b01355a1-e409-4613-8e55-e207b09fd58d",
   "metadata": {},
   "outputs": [
    {
     "name": "stdout",
     "output_type": "stream",
     "text": [
      "The Zen of Python, by Tim Peters\n",
      "\n",
      "Beautiful is better than ugly.\n",
      "Explicit is better than implicit.\n",
      "Simple is better than complex.\n",
      "Complex is better than complicated.\n",
      "Flat is better than nested.\n",
      "Sparse is better than dense.\n",
      "Readability counts.\n",
      "Special cases aren't special enough to break the rules.\n",
      "Although practicality beats purity.\n",
      "Errors should never pass silently.\n",
      "Unless explicitly silenced.\n",
      "In the face of ambiguity, refuse the temptation to guess.\n",
      "There should be one-- and preferably only one --obvious way to do it.\n",
      "Although that way may not be obvious at first unless you're Dutch.\n",
      "Now is better than never.\n",
      "Although never is often better than *right* now.\n",
      "If the implementation is hard to explain, it's a bad idea.\n",
      "If the implementation is easy to explain, it may be a good idea.\n",
      "Namespaces are one honking great idea -- let's do more of those!\n"
     ]
    }
   ],
   "source": [
    "\"\"\"The Zen of Python, by Tim Peters\n",
    "\n",
    "Beautiful is better than ugly.\n",
    "Explicit is better than implicit.\n",
    "Simple is better than complex.\n",
    "Complex is better than complicated.\n",
    "Flat is better than nested.\n",
    "Sparse is better than dense.\n",
    "Readability counts.\n",
    "Special cases aren't special enough to break the rules.\n",
    "Although practicality beats purity.\n",
    "Errors should never pass silently.\n",
    "Unless explicitly silenced.\n",
    "In the face of ambiguity, refuse the temptation to guess.\n",
    "There should be one-- and preferably only one --obvious way to do it.\n",
    "Although that way may not be obvious at first unless you're Dutch.\n",
    "Now is better than never.\n",
    "Although never is often better than *right* now.\n",
    "If the implementation is hard to explain, it's a bad idea.\n",
    "If the implementation is easy to explain, it may be a good idea.\n",
    "Namespaces are one honking great idea -- let's do more of those!\"\"\"\n",
    "\n",
    "print(\"\"\"The Zen of Python, by Tim Peters\n",
    "\n",
    "Beautiful is better than ugly.\n",
    "Explicit is better than implicit.\n",
    "Simple is better than complex.\n",
    "Complex is better than complicated.\n",
    "Flat is better than nested.\n",
    "Sparse is better than dense.\n",
    "Readability counts.\n",
    "Special cases aren't special enough to break the rules.\n",
    "Although practicality beats purity.\n",
    "Errors should never pass silently.\n",
    "Unless explicitly silenced.\n",
    "In the face of ambiguity, refuse the temptation to guess.\n",
    "There should be one-- and preferably only one --obvious way to do it.\n",
    "Although that way may not be obvious at first unless you're Dutch.\n",
    "Now is better than never.\n",
    "Although never is often better than *right* now.\n",
    "If the implementation is hard to explain, it's a bad idea.\n",
    "If the implementation is easy to explain, it may be a good idea.\n",
    "Namespaces are one honking great idea -- let's do more of those!\"\"\")"
   ]
  },
  {
   "cell_type": "code",
   "execution_count": 16,
   "id": "1d33abb4-199b-496d-a0f2-8b9196698d78",
   "metadata": {},
   "outputs": [
    {
     "name": "stdout",
     "output_type": "stream",
     "text": [
      "What is your name?\n"
     ]
    }
   ],
   "source": [
    "print(\"What is your name?\")"
   ]
  },
  {
   "cell_type": "markdown",
   "id": "fe57944f-4687-44ec-be4e-c54bf8db645e",
   "metadata": {},
   "source": [
    "## print() -- This is output function. It shows on screen what ever you put inside it."
   ]
  },
  {
   "cell_type": "code",
   "execution_count": 17,
   "id": "95ebe425-179a-42b7-a8d8-527e7200b8f0",
   "metadata": {},
   "outputs": [
    {
     "name": "stdin",
     "output_type": "stream",
     "text": [
      "What is your name? Amit\n"
     ]
    },
    {
     "data": {
      "text/plain": [
       "'Amit'"
      ]
     },
     "execution_count": 17,
     "metadata": {},
     "output_type": "execute_result"
    }
   ],
   "source": [
    "input(\"What is your name?\")"
   ]
  },
  {
   "cell_type": "code",
   "execution_count": 18,
   "id": "3d3636a0-d837-4a9f-9e49-478bc5beb065",
   "metadata": {},
   "outputs": [
    {
     "name": "stdin",
     "output_type": "stream",
     "text": [
      "What is your name? Amit\n"
     ]
    }
   ],
   "source": [
    "name = input(\"What is your name?\")"
   ]
  },
  {
   "cell_type": "code",
   "execution_count": 19,
   "id": "8a03e566-af64-4bd5-9d81-8b46e6d38fb5",
   "metadata": {},
   "outputs": [
    {
     "data": {
      "text/plain": [
       "'Amit'"
      ]
     },
     "execution_count": 19,
     "metadata": {},
     "output_type": "execute_result"
    }
   ],
   "source": [
    "name"
   ]
  },
  {
   "cell_type": "markdown",
   "id": "b9dcb28c-e16c-42c2-a7f9-8bbb12664985",
   "metadata": {},
   "source": [
    "## Variable --> Variable is a container which hold some value."
   ]
  },
  {
   "cell_type": "code",
   "execution_count": 20,
   "id": "28e7922a-4d0d-4626-b3a4-a43cda747f77",
   "metadata": {},
   "outputs": [
    {
     "name": "stdout",
     "output_type": "stream",
     "text": [
      "1669591358256\n"
     ]
    }
   ],
   "source": [
    "# I want to know the address of this variable called name.\n",
    "# id() -- > use this to get the location/address of the variable.\n",
    "\n",
    "print(id(name))"
   ]
  },
  {
   "cell_type": "code",
   "execution_count": 21,
   "id": "c71e6fb1-6977-4d3f-823e-cfaf44226ef7",
   "metadata": {},
   "outputs": [
    {
     "data": {
      "text/plain": [
       "'Amit'"
      ]
     },
     "execution_count": 21,
     "metadata": {},
     "output_type": "execute_result"
    }
   ],
   "source": [
    "name"
   ]
  },
  {
   "cell_type": "code",
   "execution_count": 22,
   "id": "a230bcaa-db37-46fc-b0ed-a16ee7ffae08",
   "metadata": {},
   "outputs": [],
   "source": [
    "name = \"Manish\""
   ]
  },
  {
   "cell_type": "code",
   "execution_count": 23,
   "id": "4eca1dd3-6942-4b53-bd3e-d2b115501f41",
   "metadata": {},
   "outputs": [
    {
     "data": {
      "text/plain": [
       "'Manish'"
      ]
     },
     "execution_count": 23,
     "metadata": {},
     "output_type": "execute_result"
    }
   ],
   "source": [
    "name"
   ]
  },
  {
   "cell_type": "code",
   "execution_count": 31,
   "id": "62299e70-010a-4ee4-ba0b-aeb837f4ab45",
   "metadata": {},
   "outputs": [
    {
     "name": "stdout",
     "output_type": "stream",
     "text": [
      "1669591420272\n"
     ]
    }
   ],
   "source": [
    "print(id(name))"
   ]
  },
  {
   "cell_type": "code",
   "execution_count": 32,
   "id": "b1badcff-fd87-457b-8259-b1fa1f1bd628",
   "metadata": {},
   "outputs": [],
   "source": [
    "Name = 'Amit'"
   ]
  },
  {
   "cell_type": "code",
   "execution_count": 26,
   "id": "9438f812-1b21-4855-a10f-8075cf5f1d6f",
   "metadata": {},
   "outputs": [
    {
     "data": {
      "text/plain": [
       "'Manish'"
      ]
     },
     "execution_count": 26,
     "metadata": {},
     "output_type": "execute_result"
    }
   ],
   "source": [
    "name"
   ]
  },
  {
   "cell_type": "code",
   "execution_count": 33,
   "id": "ffa16dfd-b168-4a74-9665-f403de1d7977",
   "metadata": {},
   "outputs": [
    {
     "name": "stdout",
     "output_type": "stream",
     "text": [
      "1669591483504\n"
     ]
    }
   ],
   "source": [
    "print(id(Name))"
   ]
  },
  {
   "cell_type": "code",
   "execution_count": 34,
   "id": "9fa23bd3-e480-4648-abb2-61ff90816332",
   "metadata": {},
   "outputs": [],
   "source": [
    "My_Number_12 = 7728041227"
   ]
  },
  {
   "cell_type": "code",
   "execution_count": 36,
   "id": "2adc305f-3d61-4970-ad5a-f216704503c2",
   "metadata": {},
   "outputs": [
    {
     "data": {
      "text/plain": [
       "str"
      ]
     },
     "execution_count": 36,
     "metadata": {},
     "output_type": "execute_result"
    }
   ],
   "source": [
    "# This is not recommended\n",
    "type(Name)"
   ]
  },
  {
   "cell_type": "code",
   "execution_count": 38,
   "id": "24334d3a-3013-474a-8aaa-c28da8974453",
   "metadata": {},
   "outputs": [
    {
     "name": "stdout",
     "output_type": "stream",
     "text": [
      "<class 'str'>\n"
     ]
    }
   ],
   "source": [
    "# Best Practices\n",
    "print(type(name))"
   ]
  },
  {
   "cell_type": "code",
   "execution_count": 39,
   "id": "1c70f882-515e-4c16-877e-83138f6e4faf",
   "metadata": {},
   "outputs": [
    {
     "name": "stdout",
     "output_type": "stream",
     "text": [
      "<class 'int'>\n"
     ]
    }
   ],
   "source": [
    "print(type(My_Number_12))"
   ]
  },
  {
   "cell_type": "code",
   "execution_count": 1,
   "id": "4ee2aec8-2478-439d-a566-10299cf36aa0",
   "metadata": {},
   "outputs": [
    {
     "name": "stdout",
     "output_type": "stream",
     "text": [
      "<class 'int'>\n"
     ]
    }
   ],
   "source": [
    "My_Num = 9898787434\n",
    "\n",
    "print(type(My_Num))"
   ]
  },
  {
   "cell_type": "code",
   "execution_count": 4,
   "id": "62149417-660a-4453-a5bb-56cae3033df6",
   "metadata": {},
   "outputs": [],
   "source": [
    "# Creating a string with str() method/function.\n",
    "\n",
    "My_num = str(9898787434)"
   ]
  },
  {
   "cell_type": "code",
   "execution_count": 5,
   "id": "5f66a3de-27b4-44d0-8391-f03e8b596dd2",
   "metadata": {},
   "outputs": [
    {
     "name": "stdout",
     "output_type": "stream",
     "text": [
      "<class 'str'>\n"
     ]
    }
   ],
   "source": [
    "print(type(My_num))"
   ]
  }
 ],
 "metadata": {
  "kernelspec": {
   "display_name": "Python 3 (ipykernel)",
   "language": "python",
   "name": "python3"
  },
  "language_info": {
   "codemirror_mode": {
    "name": "ipython",
    "version": 3
   },
   "file_extension": ".py",
   "mimetype": "text/x-python",
   "name": "python",
   "nbconvert_exporter": "python",
   "pygments_lexer": "ipython3",
   "version": "3.11.7"
  }
 },
 "nbformat": 4,
 "nbformat_minor": 5
}
