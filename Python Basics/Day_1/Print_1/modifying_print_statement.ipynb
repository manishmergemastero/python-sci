{
 "cells": [
  {
   "cell_type": "code",
   "execution_count": 3,
   "id": "8616d6ce-cdf9-4815-999f-0118207d30c5",
   "metadata": {},
   "outputs": [
    {
     "name": "stdout",
     "output_type": "stream",
     "text": [
      "She said: \"Hello\" and then left.\n"
     ]
    }
   ],
   "source": [
    "# In the first print statement we want to have some double quotes around a word hello.\n",
    "\n",
    "#But notice the color coding here because the computer reads from left to right when it sees the first \n",
    "#double quote it thinks this is the beginning of text and then it sees the second double quotes \n",
    "# at the beginning of word hello it thinks that is the end of the text.\n",
    "# So then after the end of the text well it's code.\n",
    "\n",
    "#This will raise a error.\n",
    "# print(\"She said: \"Hello\" and then left.\")\n",
    "\n",
    "# So how to solve this --> well we have two ways to do so.\n",
    "\n",
    "# print('She said: \"Hello\" and then left.')\n",
    "\n",
    "print(\"She said: \\\"Hello\\\" and then left.\")"
   ]
  },
  {
   "cell_type": "code",
   "execution_count": 4,
   "id": "ad37d34e-6404-49be-9fec-4f3ff411325c",
   "metadata": {},
   "outputs": [
    {
     "name": "stdout",
     "output_type": "stream",
     "text": [
      "A 'single quote' inside a double quote\n",
      "A \"double quote\" inside a single quote\n",
      "Alternatively you can just \"escape\" the quote\n"
     ]
    }
   ],
   "source": [
    "print(\"A 'single quote' inside a double quote\")\n",
    "print('A \"double quote\" inside a single quote')\n",
    "print(\"Alternatively you can just \\\"escape\\\" the quote\")"
   ]
  }
 ],
 "metadata": {
  "kernelspec": {
   "display_name": "Python 3 (ipykernel)",
   "language": "python",
   "name": "python3"
  },
  "language_info": {
   "codemirror_mode": {
    "name": "ipython",
    "version": 3
   },
   "file_extension": ".py",
   "mimetype": "text/x-python",
   "name": "python",
   "nbconvert_exporter": "python",
   "pygments_lexer": "ipython3",
   "version": "3.11.7"
  }
 },
 "nbformat": 4,
 "nbformat_minor": 5
}
