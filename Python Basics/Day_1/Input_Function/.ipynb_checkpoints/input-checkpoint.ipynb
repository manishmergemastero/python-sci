{
 "cells": [
  {
   "cell_type": "code",
   "execution_count": 4,
   "id": "10ce36c6-6a4d-4335-a284-27c9b48ab5dc",
   "metadata": {},
   "outputs": [
    {
     "name": "stdin",
     "output_type": "stream",
     "text": [
      "please enter your name: \n",
      " ksadjfsajdhsajhdsahdkjasdlksalk\n"
     ]
    },
    {
     "name": "stdout",
     "output_type": "stream",
     "text": [
      "31\n"
     ]
    }
   ],
   "source": [
    "# print(\"What is your name?\")\n",
    "\n",
    "# input(\"A prompt for the user\")\n",
    "\n",
    "# print(\"Hello \" + input(\"What is your name?\"))\n",
    "\n",
    "name = input(\"please enter your name: \\n\")\n",
    "\n",
    "print(len(name))"
   ]
  }
 ],
 "metadata": {
  "kernelspec": {
   "display_name": "Python 3 (ipykernel)",
   "language": "python",
   "name": "python3"
  },
  "language_info": {
   "codemirror_mode": {
    "name": "ipython",
    "version": 3
   },
   "file_extension": ".py",
   "mimetype": "text/x-python",
   "name": "python",
   "nbconvert_exporter": "python",
   "pygments_lexer": "ipython3",
   "version": "3.11.7"
  }
 },
 "nbformat": 4,
 "nbformat_minor": 5
}
