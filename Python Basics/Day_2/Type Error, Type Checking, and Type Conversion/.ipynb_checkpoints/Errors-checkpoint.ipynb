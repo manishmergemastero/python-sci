{
 "cells": [
  {
   "cell_type": "code",
   "execution_count": 21,
   "id": "302d4238-79d4-48ec-b27d-3c66ee0ba6e6",
   "metadata": {},
   "outputs": [
    {
     "name": "stdin",
     "output_type": "stream",
     "text": [
      "What is your name?  Manish\n"
     ]
    }
   ],
   "source": [
    "name = input(\"What is your name? \")\n",
    "no_of_chars = len(name)"
   ]
  },
  {
   "cell_type": "code",
   "execution_count": 22,
   "id": "14051a13-14ea-4b43-a405-4d238b8f29ac",
   "metadata": {},
   "outputs": [
    {
     "name": "stdin",
     "output_type": "stream",
     "text": [
      "What is your name?  Abhishek\n"
     ]
    }
   ],
   "source": [
    "# previously we saw how the len function gives us a type error when we give it a number instead of a string.\n",
    "\n",
    "# print(len(483))\n",
    "# print()\n",
    "# input()\n",
    "# int()\n",
    "# str()\n",
    "# float()\n",
    "# bool()\n",
    "# len()\n",
    "# type()\n",
    "# round()\n",
    "# slicing[],indexing[]\n",
    "\n",
    "\n",
    "\n",
    "# So, let's talk a liitle bit more about data types and functions.\n",
    "# and the way I think about functions is kind of like some sort of fancy machine\n",
    "# that you might see in a factory, right? So, in this case we've got some sort of machine\n",
    "# that's going to take potatoes into chips and we don't really care how it does it,\n",
    "# but it's probably going to have to peel the potatoes, wash the potatoes, cut it up, fry it,\n",
    "# and then finally return it to us as an output in the form of fries.\n",
    "# Now let's say that we took the same machine that normally processes potatoes and\n",
    "# we decide to get a rock and we just pass this through the function,then we're getting\n",
    "# an error, right? This is basically what happened above.\n",
    "# the len() function doesn't like working with integers. And by forcing this through,\n",
    "# We end up with an error and our code breaks and it gives us this thing, a type error.\n",
    "# Now do you remember previously we had this challenge where we asked you to get the\n",
    "# get an input from the user, What is your name?  And then we use the length function\n",
    "# to get the number of characters of their name. And let's just save that to a variable.\n",
    "# let's call it num_char and then we print your name has num_char plus number of characters.\n",
    "# So in this case you would expect it to prompt the user to enter their name.\n",
    "# Let's say I write Abhishek and the length of that string  would be 8.\n",
    "\n",
    "\n",
    "num_char = len(input(\"What is your name? \"))\n",
    "# print(\"your name has\" + num_char + \"characters.\"  )\n",
    "\n",
    "# the above print function would also raise a type error. So it tells you that \n",
    "# you can only concatenate strings, not integers. So in this case, we were concatenating\n",
    "# a string to an integer.\n",
    "\n",
    "# So how can we prevent these type errors and how can we see the data type that we're working with?\n",
    "# well, we could use a function called type, which basically will check whatever you put\n",
    "# between the parentheses and give you the type of data that it is. \n",
    "\n",
    "# print(type(num_char))\n",
    "\n",
    "# So adding a string to an integer doesn't make any sense, which is why you got the type error.\n",
    "# Now every so often when you're writing code and you're not quite sure what the type of data\n",
    "# of something might be, then you can simply just put it inside a type check function,\n",
    "# right? Like so. And then you'll get an answer.\n",
    "\n",
    "\n",
    "# --> Now in addition to type checking, we can also do type conversion or you might hear\n",
    "# it called type casting where we change a piece of data from one particular data type to another.\n",
    "# So it, for eg, we know that this variable num_char has the data type of integer.\n",
    "# If we wanted to turn it into a string."
   ]
  },
  {
   "cell_type": "code",
   "execution_count": 19,
   "id": "60cb44ae-7575-441f-bb0f-a2f12158b264",
   "metadata": {},
   "outputs": [
    {
     "name": "stdin",
     "output_type": "stream",
     "text": [
      "What is your name?  Abhishek\n"
     ]
    },
    {
     "name": "stdout",
     "output_type": "stream",
     "text": [
      "your name has 8 characters.\n"
     ]
    }
   ],
   "source": [
    "# We could convert it into a string by writing -->\n",
    "\n",
    "num_char = len(input(\"What is your name? \"))\n",
    "\n",
    "new_num_char = str(num_char)\n",
    "\n",
    "\n",
    "print(\"your name has \" + new_num_char + \" characters.\"  )\n",
    "\n",
    "# My Way \n",
    "# print(f\"your name has {num_char} characters.\"  )\n",
    "\n",
    "# So in this case we have taken a integer data type, put it inside the \n",
    "# parentheses of a str function, which takes a object in between the parentheses \n",
    "# and converts it into a string, which we then store inside this new_num_char\n",
    "# and we can now use it in our print statement because all the data types of all\n",
    "# the pieces of data that we're adding together have the same data type, string."
   ]
  },
  {
   "cell_type": "code",
   "execution_count": 10,
   "id": "efe9ab89-2e41-4c28-b2f7-0487a9a0c964",
   "metadata": {},
   "outputs": [
    {
     "name": "stdout",
     "output_type": "stream",
     "text": [
      "<class 'str'>\n"
     ]
    }
   ],
   "source": [
    "# Now you're not limited to only converting numbers into strings.\n",
    "# You can covert a whole bunch of different data types.\n",
    "# a = 123\n",
    "# print(type(a)) # This gives you a integer\n",
    "\n",
    "# Now let's say I converted to a string by wrapping it inside the string function, then hit enter.\n",
    "a = str(123)\n",
    "print(type(a))\n"
   ]
  },
  {
   "cell_type": "code",
   "execution_count": 20,
   "id": "0c087ea9-1a62-49eb-aae7-dd33658ec65c",
   "metadata": {},
   "outputs": [
    {
     "name": "stdout",
     "output_type": "stream",
     "text": [
      "70100\n"
     ]
    }
   ],
   "source": [
    "# Let me ask you two quick questions.\n",
    "\n",
    "# 1. what will following line of code print? \n",
    "\n",
    "# print(round(70 + float(\"100.5\")))\n",
    "\n",
    "# This will print 170.5 but what's actually happening behind the scene is we're\n",
    "# converting this string 100.5 into a floating-point number nad then we're adding 70\n",
    "# to 100.5 and finally we're printing the results.\n",
    "\n",
    "\n",
    "# 2. What about this line\n",
    "print(str(70) + str(100))\n",
    "\n",
    "# Well, this time we get 70100."
   ]
  },
  {
   "cell_type": "code",
   "execution_count": 13,
   "id": "9d7964df-e362-4948-939a-f401cf3f1d53",
   "metadata": {},
   "outputs": [],
   "source": [
    "b = 99"
   ]
  },
  {
   "cell_type": "code",
   "execution_count": 14,
   "id": "cc4142bb-d002-4b03-be4e-e176c40b6663",
   "metadata": {},
   "outputs": [
    {
     "data": {
      "text/plain": [
       "int"
      ]
     },
     "execution_count": 14,
     "metadata": {},
     "output_type": "execute_result"
    }
   ],
   "source": [
    "type(b)"
   ]
  },
  {
   "cell_type": "code",
   "execution_count": 15,
   "id": "7dfe93a4-c441-44ca-905e-4ee48afafc38",
   "metadata": {},
   "outputs": [
    {
     "name": "stdout",
     "output_type": "stream",
     "text": [
      "<class 'str'>\n"
     ]
    }
   ],
   "source": [
    "c = \"100.5\"\n",
    "print(type(c))"
   ]
  },
  {
   "cell_type": "code",
   "execution_count": 16,
   "id": "cb81f2dd-8e4f-49dd-9670-481498633b66",
   "metadata": {},
   "outputs": [
    {
     "name": "stdout",
     "output_type": "stream",
     "text": [
      "<class 'float'>\n"
     ]
    }
   ],
   "source": [
    "d = 100.5\n",
    "print(type(d))"
   ]
  }
 ],
 "metadata": {
  "kernelspec": {
   "display_name": "Python 3 (ipykernel)",
   "language": "python",
   "name": "python3"
  },
  "language_info": {
   "codemirror_mode": {
    "name": "ipython",
    "version": 3
   },
   "file_extension": ".py",
   "mimetype": "text/x-python",
   "name": "python",
   "nbconvert_exporter": "python",
   "pygments_lexer": "ipython3",
   "version": "3.11.7"
  }
 },
 "nbformat": 4,
 "nbformat_minor": 5
}
