{
 "cells": [
  {
   "cell_type": "code",
   "execution_count": 3,
   "id": "69185556-7897-46d6-aafe-aa0c4890f612",
   "metadata": {},
   "outputs": [
    {
     "name": "stdin",
     "output_type": "stream",
     "text": [
      " 30\n"
     ]
    },
    {
     "name": "stdout",
     "output_type": "stream",
     "text": [
      "You have 3120 weeks left.\n"
     ]
    }
   ],
   "source": [
    "age = input()\n",
    "# 🚨 Don't change the code above 👆\n",
    "# Write your code below this line 👇\n",
    "\n",
    "# The first thing we need to calculate is how many years they have left.\n",
    "# So we're going to take 90 and we're going to subtract it by their age.\n",
    "# But again, remember that the input comes in as a string data type.\n",
    "# In order to convert it into a whole number, an integer, we need to wrap the int() function around the age,\n",
    "# just like what you see on line 11.\n",
    "\n",
    "years = 90 - int(age)\n",
    "\n",
    "# In order to get to the number of weeks that year is representing, we can drill it down through months\n",
    "# or we can directly go there through the number of weeks.\n",
    "# There are 52 weeks in a year, so we can simply multiply what's stored in the number of years by 52.\n",
    "# If somebody was aged 41, then 90 - 41 = 49, and then 49 multiplied by 52 is 2,548 weeks.\n",
    "\n",
    "weeks = years * 52\n",
    "\n",
    "# weeks = (90 - int(age)) * 52\n",
    "\n",
    "# Finally, we can print out using an f-string, telling the user they have however many weeks left,\n",
    "# and we're substituting the weeks variable into the f-string using the curly braces here.\n",
    "# And there you have it, that's the solution.\n",
    "print(f\"You have {weeks} weeks left.\")"
   ]
  }
 ],
 "metadata": {
  "kernelspec": {
   "display_name": "Python 3 (ipykernel)",
   "language": "python",
   "name": "python3"
  },
  "language_info": {
   "codemirror_mode": {
    "name": "ipython",
    "version": 3
   },
   "file_extension": ".py",
   "mimetype": "text/x-python",
   "name": "python",
   "nbconvert_exporter": "python",
   "pygments_lexer": "ipython3",
   "version": "3.11.7"
  }
 },
 "nbformat": 4,
 "nbformat_minor": 5
}
