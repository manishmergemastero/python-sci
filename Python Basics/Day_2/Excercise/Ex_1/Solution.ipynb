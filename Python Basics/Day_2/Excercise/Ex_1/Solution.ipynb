{
 "cells": [
  {
   "cell_type": "code",
   "execution_count": 2,
   "id": "6ed162f2-5c2b-4b70-8768-f39ed03a19a6",
   "metadata": {},
   "outputs": [
    {
     "name": "stdin",
     "output_type": "stream",
     "text": [
      " 56\n"
     ]
    },
    {
     "name": "stdout",
     "output_type": "stream",
     "text": [
      "<class 'str'>\n"
     ]
    }
   ],
   "source": [
    "two_digit_number = input()\n",
    "\n",
    "print(type(two_digit_number))"
   ]
  },
  {
   "cell_type": "code",
   "execution_count": 3,
   "id": "0d029ed6-cd27-41de-b7b1-bd001bbae91c",
   "metadata": {},
   "outputs": [
    {
     "name": "stdin",
     "output_type": "stream",
     "text": [
      " 45\n"
     ]
    },
    {
     "name": "stdout",
     "output_type": "stream",
     "text": [
      "9\n",
      "<class 'int'>\n"
     ]
    }
   ],
   "source": [
    "two_digit_number = input()\n",
    "\n",
    "first_digit = int(two_digit_number[0])\n",
    "second_digit = int(two_digit_number[1])\n",
    "\n",
    "sum_of_digits = first_digit + second_digit\n",
    "\n",
    "print(sum_of_digits)\n",
    "print(type(sum_of_digits))"
   ]
  }
 ],
 "metadata": {
  "kernelspec": {
   "display_name": "Python 3 (ipykernel)",
   "language": "python",
   "name": "python3"
  },
  "language_info": {
   "codemirror_mode": {
    "name": "ipython",
    "version": 3
   },
   "file_extension": ".py",
   "mimetype": "text/x-python",
   "name": "python",
   "nbconvert_exporter": "python",
   "pygments_lexer": "ipython3",
   "version": "3.11.7"
  }
 },
 "nbformat": 4,
 "nbformat_minor": 5
}
