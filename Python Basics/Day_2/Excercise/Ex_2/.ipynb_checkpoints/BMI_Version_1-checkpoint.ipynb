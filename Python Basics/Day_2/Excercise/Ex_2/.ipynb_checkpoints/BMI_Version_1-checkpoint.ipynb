{
 "cells": [
  {
   "cell_type": "code",
   "execution_count": 2,
   "id": "fadbd61e-2732-48f8-a4c2-8e73de0ff2e3",
   "metadata": {},
   "outputs": [
    {
     "name": "stdin",
     "output_type": "stream",
     "text": [
      " 1.6\n",
      " 74\n"
     ]
    },
    {
     "name": "stdout",
     "output_type": "stream",
     "text": [
      "28\n"
     ]
    }
   ],
   "source": [
    "# 1st input: enter height in meters e.g: 1.65\n",
    "height = input()\n",
    "# 2nd input: enter weight in kilograms e.g: 72\n",
    "weight = input()\n",
    "# 🚨 Don't change the code above 👆\n",
    "\n",
    "# Write your code below this line 👇\n",
    "\n",
    "# Now, the first thing we want to do is to convert the numbers that we're getting through the inputs into numbers that we can work with\n",
    "# and do mathematical operations on.\n",
    "# So that means on line 12, you'll see that I've created the weight_as_integer variable to store the weight input as a whole number.\n",
    "# So I'm converting, in this case, in the example input 69 into a number that I can multiply or add and use later on. \n",
    "weight_as_int = int(weight)\n",
    "\n",
    "# On line 20, I'm converting the height that is coming in with height in meters. \n",
    "# And because none of us have one meter or two meter, we're usually somewhere in between the two. \n",
    "# This is usually represented as a floating point number. So there's a decimal point in there.\n",
    "# For example, I am 1 meter 79, and that will be 1.79 meters.In this case, we're going convert that input into a different data type, \n",
    "# one that can store decimal places, and that is the \"float data type\". So we wrap the float around the height variable, and we can turn that input 1.63 in the sample input\n",
    "# into a floating point number, which again can be used in our calculations later on.\n",
    "height_as_float = float(height)\n",
    "\n",
    "# We can calculate the BMI using various methods.\n",
    "# One method and probably the shortest method, but this would involve a little bit of Googling around,\n",
    "# is to figure out how to use the exponent operator (**) in Python.\n",
    "# Now, we haven't talked about this, but it's good to get used to the idea that there are multiple ways of doing everything.\n",
    "# And just because you did it differently doesn't mean it's wrong.\n",
    "# So I wanted to present you with many ways.\n",
    "# Now, the exponent operator is equivalent to a math where you see that super scripted number, so the little number at the top.\n",
    "# In this case, we need to square the height, so that means multiplying the height by itself, \n",
    "# or in math, this is called raising the height to a power of two. And we can do that in Python using the double asterisk operator.\n",
    "# So height as a float, two asterisks, and then the number two (height_as_float **2) will square the height.\n",
    "# And then all we have to do is do weight divided by height squared, and we end up with our BMI.\n",
    "# An alternative way of doing this is by using parentheses. You might remember from high school maths,in the US it's called PEMDAS and in the UK it's called BODMAS, but brackets always come before any other operation.\n",
    "# In this case, we can't simply just write weight divided by height times height, because the first operation that's going to be calculated\n",
    "# is weight divided by height,and it's going to give us erroneous answers.\n",
    "# But by wrapping height times height in a set of parentheses, we ensure that part of the operation gets carried out first, and then we take the result\n",
    "# and then we divide weight by the result.\n",
    "# This is more likely the way that you might have solved this, but you might have had an error because you forgot about the parentheses.\n",
    "# So this is something to note.\n",
    "# Finally, we can convert the BMI into a whole number, so rounding it if necessary, and then we print it out as the solution.\n",
    "\n",
    "bmi = weight_as_int/height_as_float**2\n",
    "# bmi = weight_as_int / (height_as_float * height_as_float)\n",
    "print(int(bmi))"
   ]
  }
 ],
 "metadata": {
  "kernelspec": {
   "display_name": "Python 3 (ipykernel)",
   "language": "python",
   "name": "python3"
  },
  "language_info": {
   "codemirror_mode": {
    "name": "ipython",
    "version": 3
   },
   "file_extension": ".py",
   "mimetype": "text/x-python",
   "name": "python",
   "nbconvert_exporter": "python",
   "pygments_lexer": "ipython3",
   "version": "3.11.7"
  }
 },
 "nbformat": 4,
 "nbformat_minor": 5
}
